{
  "nbformat": 4,
  "nbformat_minor": 0,
  "metadata": {
    "colab": {
      "provenance": [],
      "authorship_tag": "ABX9TyPzRCuZntSY478BD/BtS7ym",
      "include_colab_link": true
    },
    "kernelspec": {
      "name": "python3",
      "display_name": "Python 3"
    },
    "language_info": {
      "name": "python"
    }
  },
  "cells": [
    {
      "cell_type": "markdown",
      "metadata": {
        "id": "view-in-github",
        "colab_type": "text"
      },
      "source": [
        "<a href=\"https://colab.research.google.com/github/julianafrmendes/Business-Analytics/blob/master/Basket_Analysis.ipynb\" target=\"_parent\"><img src=\"https://colab.research.google.com/assets/colab-badge.svg\" alt=\"Open In Colab\"/></a>"
      ]
    },
    {
      "cell_type": "markdown",
      "source": [
        "# Business analytics\n",
        "\n",
        "## Marketing Analysis\n",
        "\n",
        "### Análise de vendas associadas e padrão de consumo com Pyspark\n"
      ],
      "metadata": {
        "id": "hqA5b3Y0j13-"
      }
    },
    {
      "cell_type": "markdown",
      "source": [
        "## Basket Analysis\n",
        "\n",
        "A análise de cesta pode ser usada para identificar quais produtos são comprados juntos com frequência e, portanto, podem ser vendidos juntos para aumentar as vendas. Também pode ser usada para identificar produtos que são comprados com menos frequência, o que pode indicar problemas com esses produtos ou com sua apresentação nas prateleiras. É uma técnica de análise de dados frequentemente utilizada no varejo e no setor de bens de consumo."
      ],
      "metadata": {
        "id": "FCN-R-u9sD3F"
      }
    },
    {
      "cell_type": "code",
      "source": [
        "!pip install -q -U watermark"
      ],
      "metadata": {
        "id": "82shNdvBsiXa"
      },
      "execution_count": 25,
      "outputs": []
    },
    {
      "cell_type": "code",
      "source": [
        "\n",
        "# Versões dos pacotes usados neste jupyter notebook\n",
        "%reload_ext watermark\n",
        "%watermark -a \"Juliana Mendes, Data science academy\" --iversions"
      ],
      "metadata": {
        "colab": {
          "base_uri": "https://localhost:8080/"
        },
        "id": "uiGELqb0j7tm",
        "outputId": "02d82500-1c10-47ae-ff97-807c8f923d80"
      },
      "execution_count": 26,
      "outputs": [
        {
          "output_type": "stream",
          "name": "stdout",
          "text": [
            "Author: Juliana Mendes, Data science academy\n",
            "\n",
            "numpy     : 1.21.6\n",
            "seaborn   : 0.11.2\n",
            "pyspark   : 3.3.1\n",
            "pandas    : 1.3.5\n",
            "matplotlib: 3.2.2\n",
            "\n"
          ]
        }
      ]
    },
    {
      "cell_type": "code",
      "source": [
        "# Instala PySpark \n",
        "!pip install -q pyspark"
      ],
      "metadata": {
        "id": "MedhWdkYj4VX"
      },
      "execution_count": 22,
      "outputs": []
    },
    {
      "cell_type": "code",
      "source": [
        "# Imports\n",
        "import pandas as pd\n",
        "import numpy as np\n",
        "import matplotlib.pyplot as plt\n",
        "import seaborn as sns\n",
        "import pyspark\n",
        "from pyspark.sql import SparkSession\n",
        "from pyspark.ml.fpm import FPGrowth\n",
        "from pyspark.sql import SQLContext\n",
        "from pyspark.sql.functions import col, round\n",
        "from pyspark.ml import Pipeline\n",
        "from pyspark.ml.classification import DecisionTreeClassifier\n",
        "from pyspark.ml.feature import StringIndexer, VectorIndexer\n",
        "from pyspark.ml.evaluation import MulticlassClassificationEvaluator\n",
        "from pyspark.ml.linalg import Vectors\n",
        "from pyspark.ml.feature import VectorAssembler"
      ],
      "metadata": {
        "id": "FnUl0WBNi21_"
      },
      "execution_count": 23,
      "outputs": []
    },
    {
      "cell_type": "code",
      "source": [
        "# Carregamos os dados processados e seguimos com o trabalho de análise\n",
        "dados = pd.read_csv(\"DataCoSupplyChainDatasetProcessados.csv\", encoding = 'latin1')"
      ],
      "metadata": {
        "id": "u0Jpo7iRgW6C"
      },
      "execution_count": 5,
      "outputs": []
    },
    {
      "cell_type": "code",
      "source": [
        "# Visualiza\n",
        "dados.tail()"
      ],
      "metadata": {
        "colab": {
          "base_uri": "https://localhost:8080/",
          "height": 681
        },
        "id": "_aGiFPvugW89",
        "outputId": "a14cea11-442a-463e-cefc-ac82429faba6"
      },
      "execution_count": 6,
      "outputs": [
        {
          "output_type": "execute_result",
          "data": {
            "text/plain": [
              "        Unnamed: 0      Type  Days for shipping (real)  \\\n",
              "180514      180514      CASH                         4   \n",
              "180515      180515     DEBIT                         3   \n",
              "180516      180516  TRANSFER                         5   \n",
              "180517      180517   PAYMENT                         3   \n",
              "180518      180518   PAYMENT                         4   \n",
              "\n",
              "        Days for shipment (scheduled)  Sales per customer   Delivery Status  \\\n",
              "180514                              4          399.980011  Shipping on time   \n",
              "180515                              2          395.980011     Late delivery   \n",
              "180516                              4          391.980011     Late delivery   \n",
              "180517                              4          387.980011  Advance shipping   \n",
              "180518                              4          383.980011  Shipping on time   \n",
              "\n",
              "        Category Id Category Name Customer City Customer Country  ...  \\\n",
              "180514           45       Fishing      Brooklyn          EE. UU.  ...   \n",
              "180515           45       Fishing   Bakersfield          EE. UU.  ...   \n",
              "180516           45       Fishing       Bristol          EE. UU.  ...   \n",
              "180517           45       Fishing        Caguas      Puerto Rico  ...   \n",
              "180518           45       Fishing        Caguas      Puerto Rico  ...   \n",
              "\n",
              "        Order Item Quantity       Sales Order Item Total  \\\n",
              "180514                    1  399.980011       399.980011   \n",
              "180515                    1  399.980011       395.980011   \n",
              "180516                    1  399.980011       391.980011   \n",
              "180517                    1  399.980011       387.980011   \n",
              "180518                    1  399.980011       383.980011   \n",
              "\n",
              "        Order Profit Per Order  Order Region     Order Status Product Card Id  \\\n",
              "180514               40.000000  Eastern Asia           CLOSED            1004   \n",
              "180515             -613.770019  Eastern Asia         COMPLETE            1004   \n",
              "180516              141.110001       Oceania          PENDING            1004   \n",
              "180517              186.229996       Oceania  PENDING_PAYMENT            1004   \n",
              "180518              168.949997    South Asia  PENDING_PAYMENT            1004   \n",
              "\n",
              "                                     Product Name  Product Price  \\\n",
              "180514  Field & Stream Sportsman 16 Gun Fire Safe     399.980011   \n",
              "180515  Field & Stream Sportsman 16 Gun Fire Safe     399.980011   \n",
              "180516  Field & Stream Sportsman 16 Gun Fire Safe     399.980011   \n",
              "180517  Field & Stream Sportsman 16 Gun Fire Safe     399.980011   \n",
              "180518  Field & Stream Sportsman 16 Gun Fire Safe     399.980011   \n",
              "\n",
              "         Customer Name  \n",
              "180514  Maria Peterson  \n",
              "180515    Ronald Clark  \n",
              "180516      John Smith  \n",
              "180517      Mary Smith  \n",
              "180518   Andrea Ortega  \n",
              "\n",
              "[5 rows x 35 columns]"
            ],
            "text/html": [
              "\n",
              "  <div id=\"df-e88fa961-f327-478c-a9f3-69ebfa454c63\">\n",
              "    <div class=\"colab-df-container\">\n",
              "      <div>\n",
              "<style scoped>\n",
              "    .dataframe tbody tr th:only-of-type {\n",
              "        vertical-align: middle;\n",
              "    }\n",
              "\n",
              "    .dataframe tbody tr th {\n",
              "        vertical-align: top;\n",
              "    }\n",
              "\n",
              "    .dataframe thead th {\n",
              "        text-align: right;\n",
              "    }\n",
              "</style>\n",
              "<table border=\"1\" class=\"dataframe\">\n",
              "  <thead>\n",
              "    <tr style=\"text-align: right;\">\n",
              "      <th></th>\n",
              "      <th>Unnamed: 0</th>\n",
              "      <th>Type</th>\n",
              "      <th>Days for shipping (real)</th>\n",
              "      <th>Days for shipment (scheduled)</th>\n",
              "      <th>Sales per customer</th>\n",
              "      <th>Delivery Status</th>\n",
              "      <th>Category Id</th>\n",
              "      <th>Category Name</th>\n",
              "      <th>Customer City</th>\n",
              "      <th>Customer Country</th>\n",
              "      <th>...</th>\n",
              "      <th>Order Item Quantity</th>\n",
              "      <th>Sales</th>\n",
              "      <th>Order Item Total</th>\n",
              "      <th>Order Profit Per Order</th>\n",
              "      <th>Order Region</th>\n",
              "      <th>Order Status</th>\n",
              "      <th>Product Card Id</th>\n",
              "      <th>Product Name</th>\n",
              "      <th>Product Price</th>\n",
              "      <th>Customer Name</th>\n",
              "    </tr>\n",
              "  </thead>\n",
              "  <tbody>\n",
              "    <tr>\n",
              "      <th>180514</th>\n",
              "      <td>180514</td>\n",
              "      <td>CASH</td>\n",
              "      <td>4</td>\n",
              "      <td>4</td>\n",
              "      <td>399.980011</td>\n",
              "      <td>Shipping on time</td>\n",
              "      <td>45</td>\n",
              "      <td>Fishing</td>\n",
              "      <td>Brooklyn</td>\n",
              "      <td>EE. UU.</td>\n",
              "      <td>...</td>\n",
              "      <td>1</td>\n",
              "      <td>399.980011</td>\n",
              "      <td>399.980011</td>\n",
              "      <td>40.000000</td>\n",
              "      <td>Eastern Asia</td>\n",
              "      <td>CLOSED</td>\n",
              "      <td>1004</td>\n",
              "      <td>Field &amp; Stream Sportsman 16 Gun Fire Safe</td>\n",
              "      <td>399.980011</td>\n",
              "      <td>Maria Peterson</td>\n",
              "    </tr>\n",
              "    <tr>\n",
              "      <th>180515</th>\n",
              "      <td>180515</td>\n",
              "      <td>DEBIT</td>\n",
              "      <td>3</td>\n",
              "      <td>2</td>\n",
              "      <td>395.980011</td>\n",
              "      <td>Late delivery</td>\n",
              "      <td>45</td>\n",
              "      <td>Fishing</td>\n",
              "      <td>Bakersfield</td>\n",
              "      <td>EE. UU.</td>\n",
              "      <td>...</td>\n",
              "      <td>1</td>\n",
              "      <td>399.980011</td>\n",
              "      <td>395.980011</td>\n",
              "      <td>-613.770019</td>\n",
              "      <td>Eastern Asia</td>\n",
              "      <td>COMPLETE</td>\n",
              "      <td>1004</td>\n",
              "      <td>Field &amp; Stream Sportsman 16 Gun Fire Safe</td>\n",
              "      <td>399.980011</td>\n",
              "      <td>Ronald Clark</td>\n",
              "    </tr>\n",
              "    <tr>\n",
              "      <th>180516</th>\n",
              "      <td>180516</td>\n",
              "      <td>TRANSFER</td>\n",
              "      <td>5</td>\n",
              "      <td>4</td>\n",
              "      <td>391.980011</td>\n",
              "      <td>Late delivery</td>\n",
              "      <td>45</td>\n",
              "      <td>Fishing</td>\n",
              "      <td>Bristol</td>\n",
              "      <td>EE. UU.</td>\n",
              "      <td>...</td>\n",
              "      <td>1</td>\n",
              "      <td>399.980011</td>\n",
              "      <td>391.980011</td>\n",
              "      <td>141.110001</td>\n",
              "      <td>Oceania</td>\n",
              "      <td>PENDING</td>\n",
              "      <td>1004</td>\n",
              "      <td>Field &amp; Stream Sportsman 16 Gun Fire Safe</td>\n",
              "      <td>399.980011</td>\n",
              "      <td>John Smith</td>\n",
              "    </tr>\n",
              "    <tr>\n",
              "      <th>180517</th>\n",
              "      <td>180517</td>\n",
              "      <td>PAYMENT</td>\n",
              "      <td>3</td>\n",
              "      <td>4</td>\n",
              "      <td>387.980011</td>\n",
              "      <td>Advance shipping</td>\n",
              "      <td>45</td>\n",
              "      <td>Fishing</td>\n",
              "      <td>Caguas</td>\n",
              "      <td>Puerto Rico</td>\n",
              "      <td>...</td>\n",
              "      <td>1</td>\n",
              "      <td>399.980011</td>\n",
              "      <td>387.980011</td>\n",
              "      <td>186.229996</td>\n",
              "      <td>Oceania</td>\n",
              "      <td>PENDING_PAYMENT</td>\n",
              "      <td>1004</td>\n",
              "      <td>Field &amp; Stream Sportsman 16 Gun Fire Safe</td>\n",
              "      <td>399.980011</td>\n",
              "      <td>Mary Smith</td>\n",
              "    </tr>\n",
              "    <tr>\n",
              "      <th>180518</th>\n",
              "      <td>180518</td>\n",
              "      <td>PAYMENT</td>\n",
              "      <td>4</td>\n",
              "      <td>4</td>\n",
              "      <td>383.980011</td>\n",
              "      <td>Shipping on time</td>\n",
              "      <td>45</td>\n",
              "      <td>Fishing</td>\n",
              "      <td>Caguas</td>\n",
              "      <td>Puerto Rico</td>\n",
              "      <td>...</td>\n",
              "      <td>1</td>\n",
              "      <td>399.980011</td>\n",
              "      <td>383.980011</td>\n",
              "      <td>168.949997</td>\n",
              "      <td>South Asia</td>\n",
              "      <td>PENDING_PAYMENT</td>\n",
              "      <td>1004</td>\n",
              "      <td>Field &amp; Stream Sportsman 16 Gun Fire Safe</td>\n",
              "      <td>399.980011</td>\n",
              "      <td>Andrea Ortega</td>\n",
              "    </tr>\n",
              "  </tbody>\n",
              "</table>\n",
              "<p>5 rows × 35 columns</p>\n",
              "</div>\n",
              "      <button class=\"colab-df-convert\" onclick=\"convertToInteractive('df-e88fa961-f327-478c-a9f3-69ebfa454c63')\"\n",
              "              title=\"Convert this dataframe to an interactive table.\"\n",
              "              style=\"display:none;\">\n",
              "        \n",
              "  <svg xmlns=\"http://www.w3.org/2000/svg\" height=\"24px\"viewBox=\"0 0 24 24\"\n",
              "       width=\"24px\">\n",
              "    <path d=\"M0 0h24v24H0V0z\" fill=\"none\"/>\n",
              "    <path d=\"M18.56 5.44l.94 2.06.94-2.06 2.06-.94-2.06-.94-.94-2.06-.94 2.06-2.06.94zm-11 1L8.5 8.5l.94-2.06 2.06-.94-2.06-.94L8.5 2.5l-.94 2.06-2.06.94zm10 10l.94 2.06.94-2.06 2.06-.94-2.06-.94-.94-2.06-.94 2.06-2.06.94z\"/><path d=\"M17.41 7.96l-1.37-1.37c-.4-.4-.92-.59-1.43-.59-.52 0-1.04.2-1.43.59L10.3 9.45l-7.72 7.72c-.78.78-.78 2.05 0 2.83L4 21.41c.39.39.9.59 1.41.59.51 0 1.02-.2 1.41-.59l7.78-7.78 2.81-2.81c.8-.78.8-2.07 0-2.86zM5.41 20L4 18.59l7.72-7.72 1.47 1.35L5.41 20z\"/>\n",
              "  </svg>\n",
              "      </button>\n",
              "      \n",
              "  <style>\n",
              "    .colab-df-container {\n",
              "      display:flex;\n",
              "      flex-wrap:wrap;\n",
              "      gap: 12px;\n",
              "    }\n",
              "\n",
              "    .colab-df-convert {\n",
              "      background-color: #E8F0FE;\n",
              "      border: none;\n",
              "      border-radius: 50%;\n",
              "      cursor: pointer;\n",
              "      display: none;\n",
              "      fill: #1967D2;\n",
              "      height: 32px;\n",
              "      padding: 0 0 0 0;\n",
              "      width: 32px;\n",
              "    }\n",
              "\n",
              "    .colab-df-convert:hover {\n",
              "      background-color: #E2EBFA;\n",
              "      box-shadow: 0px 1px 2px rgba(60, 64, 67, 0.3), 0px 1px 3px 1px rgba(60, 64, 67, 0.15);\n",
              "      fill: #174EA6;\n",
              "    }\n",
              "\n",
              "    [theme=dark] .colab-df-convert {\n",
              "      background-color: #3B4455;\n",
              "      fill: #D2E3FC;\n",
              "    }\n",
              "\n",
              "    [theme=dark] .colab-df-convert:hover {\n",
              "      background-color: #434B5C;\n",
              "      box-shadow: 0px 1px 3px 1px rgba(0, 0, 0, 0.15);\n",
              "      filter: drop-shadow(0px 1px 2px rgba(0, 0, 0, 0.3));\n",
              "      fill: #FFFFFF;\n",
              "    }\n",
              "  </style>\n",
              "\n",
              "      <script>\n",
              "        const buttonEl =\n",
              "          document.querySelector('#df-e88fa961-f327-478c-a9f3-69ebfa454c63 button.colab-df-convert');\n",
              "        buttonEl.style.display =\n",
              "          google.colab.kernel.accessAllowed ? 'block' : 'none';\n",
              "\n",
              "        async function convertToInteractive(key) {\n",
              "          const element = document.querySelector('#df-e88fa961-f327-478c-a9f3-69ebfa454c63');\n",
              "          const dataTable =\n",
              "            await google.colab.kernel.invokeFunction('convertToInteractive',\n",
              "                                                     [key], {});\n",
              "          if (!dataTable) return;\n",
              "\n",
              "          const docLinkHtml = 'Like what you see? Visit the ' +\n",
              "            '<a target=\"_blank\" href=https://colab.research.google.com/notebooks/data_table.ipynb>data table notebook</a>'\n",
              "            + ' to learn more about interactive tables.';\n",
              "          element.innerHTML = '';\n",
              "          dataTable['output_type'] = 'display_data';\n",
              "          await google.colab.output.renderOutput(dataTable, element);\n",
              "          const docLink = document.createElement('div');\n",
              "          docLink.innerHTML = docLinkHtml;\n",
              "          element.appendChild(docLink);\n",
              "        }\n",
              "      </script>\n",
              "    </div>\n",
              "  </div>\n",
              "  "
            ]
          },
          "metadata": {},
          "execution_count": 6
        }
      ]
    },
    {
      "cell_type": "code",
      "source": [
        "# Clientes únicos\n",
        "dados['Customer Name'].unique()"
      ],
      "metadata": {
        "colab": {
          "base_uri": "https://localhost:8080/"
        },
        "id": "Xb1hST5KiLAh",
        "outputId": "d15a4160-aaa0-40bb-ada3-7fdfe4a453a4"
      },
      "execution_count": 31,
      "outputs": [
        {
          "output_type": "execute_result",
          "data": {
            "text/plain": [
              "array(['Cally Holloway', 'Irene Luna', 'Gillian Maldonado', ...,\n",
              "       'Anika Davenport', 'Yuri Smith', 'Hyacinth Witt'], dtype=object)"
            ]
          },
          "metadata": {},
          "execution_count": 31
        }
      ]
    },
    {
      "cell_type": "markdown",
      "source": [
        " ### Associando clientes e produtos"
      ],
      "metadata": {
        "id": "Zc4aFstguT-u"
      }
    },
    {
      "cell_type": "code",
      "source": [
        "#@title\n",
        "# Vamos associar clientes e produtos\n",
        "df = dados.copy()\n",
        "df = df[['Customer Name', 'Product Name']]\n",
        "df = df.drop_duplicates(['Customer Name', 'Product Name'])\n",
        "df = df.groupby('Customer Name')['Product Name'].apply(list).reset_index(name = \"Products\")\n",
        "df"
      ],
      "metadata": {
        "colab": {
          "base_uri": "https://localhost:8080/",
          "height": 424
        },
        "cellView": "form",
        "id": "4g7HV67_iLDP",
        "outputId": "4179dbd5-301d-4acf-fb28-16e29a77c029"
      },
      "execution_count": 32,
      "outputs": [
        {
          "output_type": "execute_result",
          "data": {
            "text/plain": [
              "        Customer Name                                           Products\n",
              "0        Aaron Berger  [Under Armour Girls' Toddler Spine Surge Runni...\n",
              "1         Aaron Boyle  [Diamondback Women's Serene Classic Comfort Bi...\n",
              "2          Aaron Bush  [Nike Men's CJ Elite 2 TD Football Cleat, Unde...\n",
              "3       Aaron Calhoun  [Perfect Fitness Perfect Rip Deck, Pelican Sun...\n",
              "4          Aaron Carr  [Pelican Sunstream 100 Kayak, Nike Men's CJ El...\n",
              "...               ...                                                ...\n",
              "14028   Zorita Fisher                                       [Rock music]\n",
              "14029    Zorita Frost                                 [Porcelain crafts]\n",
              "14030  Zorita Mcbride                                       [Web Camera]\n",
              "14031   Zorita Mcleod                                   [Summer dresses]\n",
              "14032    Zorita Parks                                            [Toys ]\n",
              "\n",
              "[14033 rows x 2 columns]"
            ],
            "text/html": [
              "\n",
              "  <div id=\"df-ba36635e-4d5f-4526-80b9-bc8b37c27a61\">\n",
              "    <div class=\"colab-df-container\">\n",
              "      <div>\n",
              "<style scoped>\n",
              "    .dataframe tbody tr th:only-of-type {\n",
              "        vertical-align: middle;\n",
              "    }\n",
              "\n",
              "    .dataframe tbody tr th {\n",
              "        vertical-align: top;\n",
              "    }\n",
              "\n",
              "    .dataframe thead th {\n",
              "        text-align: right;\n",
              "    }\n",
              "</style>\n",
              "<table border=\"1\" class=\"dataframe\">\n",
              "  <thead>\n",
              "    <tr style=\"text-align: right;\">\n",
              "      <th></th>\n",
              "      <th>Customer Name</th>\n",
              "      <th>Products</th>\n",
              "    </tr>\n",
              "  </thead>\n",
              "  <tbody>\n",
              "    <tr>\n",
              "      <th>0</th>\n",
              "      <td>Aaron Berger</td>\n",
              "      <td>[Under Armour Girls' Toddler Spine Surge Runni...</td>\n",
              "    </tr>\n",
              "    <tr>\n",
              "      <th>1</th>\n",
              "      <td>Aaron Boyle</td>\n",
              "      <td>[Diamondback Women's Serene Classic Comfort Bi...</td>\n",
              "    </tr>\n",
              "    <tr>\n",
              "      <th>2</th>\n",
              "      <td>Aaron Bush</td>\n",
              "      <td>[Nike Men's CJ Elite 2 TD Football Cleat, Unde...</td>\n",
              "    </tr>\n",
              "    <tr>\n",
              "      <th>3</th>\n",
              "      <td>Aaron Calhoun</td>\n",
              "      <td>[Perfect Fitness Perfect Rip Deck, Pelican Sun...</td>\n",
              "    </tr>\n",
              "    <tr>\n",
              "      <th>4</th>\n",
              "      <td>Aaron Carr</td>\n",
              "      <td>[Pelican Sunstream 100 Kayak, Nike Men's CJ El...</td>\n",
              "    </tr>\n",
              "    <tr>\n",
              "      <th>...</th>\n",
              "      <td>...</td>\n",
              "      <td>...</td>\n",
              "    </tr>\n",
              "    <tr>\n",
              "      <th>14028</th>\n",
              "      <td>Zorita Fisher</td>\n",
              "      <td>[Rock music]</td>\n",
              "    </tr>\n",
              "    <tr>\n",
              "      <th>14029</th>\n",
              "      <td>Zorita Frost</td>\n",
              "      <td>[Porcelain crafts]</td>\n",
              "    </tr>\n",
              "    <tr>\n",
              "      <th>14030</th>\n",
              "      <td>Zorita Mcbride</td>\n",
              "      <td>[Web Camera]</td>\n",
              "    </tr>\n",
              "    <tr>\n",
              "      <th>14031</th>\n",
              "      <td>Zorita Mcleod</td>\n",
              "      <td>[Summer dresses]</td>\n",
              "    </tr>\n",
              "    <tr>\n",
              "      <th>14032</th>\n",
              "      <td>Zorita Parks</td>\n",
              "      <td>[Toys ]</td>\n",
              "    </tr>\n",
              "  </tbody>\n",
              "</table>\n",
              "<p>14033 rows × 2 columns</p>\n",
              "</div>\n",
              "      <button class=\"colab-df-convert\" onclick=\"convertToInteractive('df-ba36635e-4d5f-4526-80b9-bc8b37c27a61')\"\n",
              "              title=\"Convert this dataframe to an interactive table.\"\n",
              "              style=\"display:none;\">\n",
              "        \n",
              "  <svg xmlns=\"http://www.w3.org/2000/svg\" height=\"24px\"viewBox=\"0 0 24 24\"\n",
              "       width=\"24px\">\n",
              "    <path d=\"M0 0h24v24H0V0z\" fill=\"none\"/>\n",
              "    <path d=\"M18.56 5.44l.94 2.06.94-2.06 2.06-.94-2.06-.94-.94-2.06-.94 2.06-2.06.94zm-11 1L8.5 8.5l.94-2.06 2.06-.94-2.06-.94L8.5 2.5l-.94 2.06-2.06.94zm10 10l.94 2.06.94-2.06 2.06-.94-2.06-.94-.94-2.06-.94 2.06-2.06.94z\"/><path d=\"M17.41 7.96l-1.37-1.37c-.4-.4-.92-.59-1.43-.59-.52 0-1.04.2-1.43.59L10.3 9.45l-7.72 7.72c-.78.78-.78 2.05 0 2.83L4 21.41c.39.39.9.59 1.41.59.51 0 1.02-.2 1.41-.59l7.78-7.78 2.81-2.81c.8-.78.8-2.07 0-2.86zM5.41 20L4 18.59l7.72-7.72 1.47 1.35L5.41 20z\"/>\n",
              "  </svg>\n",
              "      </button>\n",
              "      \n",
              "  <style>\n",
              "    .colab-df-container {\n",
              "      display:flex;\n",
              "      flex-wrap:wrap;\n",
              "      gap: 12px;\n",
              "    }\n",
              "\n",
              "    .colab-df-convert {\n",
              "      background-color: #E8F0FE;\n",
              "      border: none;\n",
              "      border-radius: 50%;\n",
              "      cursor: pointer;\n",
              "      display: none;\n",
              "      fill: #1967D2;\n",
              "      height: 32px;\n",
              "      padding: 0 0 0 0;\n",
              "      width: 32px;\n",
              "    }\n",
              "\n",
              "    .colab-df-convert:hover {\n",
              "      background-color: #E2EBFA;\n",
              "      box-shadow: 0px 1px 2px rgba(60, 64, 67, 0.3), 0px 1px 3px 1px rgba(60, 64, 67, 0.15);\n",
              "      fill: #174EA6;\n",
              "    }\n",
              "\n",
              "    [theme=dark] .colab-df-convert {\n",
              "      background-color: #3B4455;\n",
              "      fill: #D2E3FC;\n",
              "    }\n",
              "\n",
              "    [theme=dark] .colab-df-convert:hover {\n",
              "      background-color: #434B5C;\n",
              "      box-shadow: 0px 1px 3px 1px rgba(0, 0, 0, 0.15);\n",
              "      filter: drop-shadow(0px 1px 2px rgba(0, 0, 0, 0.3));\n",
              "      fill: #FFFFFF;\n",
              "    }\n",
              "  </style>\n",
              "\n",
              "      <script>\n",
              "        const buttonEl =\n",
              "          document.querySelector('#df-ba36635e-4d5f-4526-80b9-bc8b37c27a61 button.colab-df-convert');\n",
              "        buttonEl.style.display =\n",
              "          google.colab.kernel.accessAllowed ? 'block' : 'none';\n",
              "\n",
              "        async function convertToInteractive(key) {\n",
              "          const element = document.querySelector('#df-ba36635e-4d5f-4526-80b9-bc8b37c27a61');\n",
              "          const dataTable =\n",
              "            await google.colab.kernel.invokeFunction('convertToInteractive',\n",
              "                                                     [key], {});\n",
              "          if (!dataTable) return;\n",
              "\n",
              "          const docLinkHtml = 'Like what you see? Visit the ' +\n",
              "            '<a target=\"_blank\" href=https://colab.research.google.com/notebooks/data_table.ipynb>data table notebook</a>'\n",
              "            + ' to learn more about interactive tables.';\n",
              "          element.innerHTML = '';\n",
              "          dataTable['output_type'] = 'display_data';\n",
              "          await google.colab.output.renderOutput(dataTable, element);\n",
              "          const docLink = document.createElement('div');\n",
              "          docLink.innerHTML = docLinkHtml;\n",
              "          element.appendChild(docLink);\n",
              "        }\n",
              "      </script>\n",
              "    </div>\n",
              "  </div>\n",
              "  "
            ]
          },
          "metadata": {},
          "execution_count": 32
        }
      ]
    },
    {
      "cell_type": "markdown",
      "source": [
        "## Inicio da sessão spark e escolha do algorítmo de associação"
      ],
      "metadata": {
        "id": "M7MoN_K4ts5e"
      }
    },
    {
      "cell_type": "code",
      "source": [
        "#@title\n",
        "# Cria sessão Spark\n",
        "spark = SparkSession.builder.master(\"local\").appName(\"DSA\").config('spark.ui.port', '4050').getOrCreate()"
      ],
      "metadata": {
        "cellView": "form",
        "id": "eUU4GqEJiP-9"
      },
      "execution_count": 9,
      "outputs": []
    },
    {
      "cell_type": "code",
      "source": [
        "# Sessão\n",
        "spark"
      ],
      "metadata": {
        "id": "Y8AiSfqSiQC2"
      },
      "execution_count": null,
      "outputs": []
    },
    {
      "cell_type": "code",
      "source": [
        "# Cria o SQL Context\n",
        "sqlContext = SQLContext(spark)"
      ],
      "metadata": {
        "colab": {
          "base_uri": "https://localhost:8080/"
        },
        "id": "Op4QeHVHiQG1",
        "outputId": "d4a89e4f-f045-4ab6-f1d1-ad1cbd5db85f"
      },
      "execution_count": 10,
      "outputs": [
        {
          "output_type": "stream",
          "name": "stderr",
          "text": [
            "/usr/local/lib/python3.8/dist-packages/pyspark/sql/context.py:112: FutureWarning: Deprecated in 3.0.0. Use SparkSession.builder.getOrCreate() instead.\n",
            "  warnings.warn(\n"
          ]
        }
      ]
    },
    {
      "cell_type": "code",
      "source": [
        "# Converte o dataframe\n",
        "df_spark_frame = sqlContext.createDataFrame(df)"
      ],
      "metadata": {
        "id": "N-Bdo0ufiXHN"
      },
      "execution_count": 11,
      "outputs": []
    },
    {
      "cell_type": "code",
      "source": [
        "type(df_spark_frame)"
      ],
      "metadata": {
        "colab": {
          "base_uri": "https://localhost:8080/"
        },
        "id": "7hMae_rLiXJ5",
        "outputId": "32beb871-69d1-4635-be5c-68faf7305af2"
      },
      "execution_count": 12,
      "outputs": [
        {
          "output_type": "execute_result",
          "data": {
            "text/plain": [
              "pyspark.sql.dataframe.DataFrame"
            ]
          },
          "metadata": {},
          "execution_count": 12
        }
      ]
    },
    {
      "cell_type": "code",
      "source": [
        "df_spark_frame.show(5)"
      ],
      "metadata": {
        "colab": {
          "base_uri": "https://localhost:8080/"
        },
        "id": "uplzkagYiXMq",
        "outputId": "30551d8f-4225-41d1-a479-bbd6febf6cb4"
      },
      "execution_count": 13,
      "outputs": [
        {
          "output_type": "stream",
          "name": "stdout",
          "text": [
            "+-------------+--------------------+\n",
            "|Customer Name|            Products|\n",
            "+-------------+--------------------+\n",
            "| Aaron Berger|[Under Armour Gir...|\n",
            "|  Aaron Boyle|[Diamondback Wome...|\n",
            "|   Aaron Bush|[Nike Men's CJ El...|\n",
            "|Aaron Calhoun|[Perfect Fitness ...|\n",
            "|   Aaron Carr|[Pelican Sunstrea...|\n",
            "+-------------+--------------------+\n",
            "only showing top 5 rows\n",
            "\n"
          ]
        }
      ]
    },
    {
      "cell_type": "code",
      "source": [
        "# Crie o objeto fpGrowth instanciando o construtor FPGrowth com os parâmetros necessários\n",
        "fpGrowth = FPGrowth(itemsCol = \"Products\", minSupport = 0.015, minConfidence = 0.70)"
      ],
      "metadata": {
        "id": "B0eJkWIliXO_"
      },
      "execution_count": 15,
      "outputs": []
    },
    {
      "cell_type": "code",
      "source": [
        "# Ajusta o dataframe no objeto fpGrowth para preparar o modelo\n",
        "modelo = fpGrowth.fit(df_spark_frame)"
      ],
      "metadata": {
        "id": "ZqlV0cExiLGQ"
      },
      "execution_count": 16,
      "outputs": []
    },
    {
      "cell_type": "code",
      "source": [
        "modelo"
      ],
      "metadata": {
        "colab": {
          "base_uri": "https://localhost:8080/"
        },
        "id": "zvGV2UGZgW_m",
        "outputId": "809a5f40-5930-48cf-9b29-12888c139d27"
      },
      "execution_count": 17,
      "outputs": [
        {
          "output_type": "execute_result",
          "data": {
            "text/plain": [
              "FPGrowthModel: uid=FPGrowth_fb3be8962c77, numTrainingRecords=14033"
            ]
          },
          "metadata": {},
          "execution_count": 17
        }
      ]
    },
    {
      "cell_type": "markdown",
      "source": [
        "## Os itens que ocorrem com mais frequência"
      ],
      "metadata": {
        "id": "9DpAk_Oxrbr6"
      }
    },
    {
      "cell_type": "code",
      "source": [
        "# Exibir os itens que ocorrem com mais frequência\n",
        "modelo.freqItemsets.sort('freq', ascending = False).show(truncate = False)"
      ],
      "metadata": {
        "colab": {
          "base_uri": "https://localhost:8080/"
        },
        "id": "n5Bz0V6riiNF",
        "outputId": "702a373a-a4ec-4670-a90e-747e96538be8"
      },
      "execution_count": 18,
      "outputs": [
        {
          "output_type": "stream",
          "name": "stdout",
          "text": [
            "+------------------------------------------------------------------------------------+----+\n",
            "|items                                                                               |freq|\n",
            "+------------------------------------------------------------------------------------+----+\n",
            "|[Perfect Fitness Perfect Rip Deck]                                                  |4851|\n",
            "|[Nike Men's CJ Elite 2 TD Football Cleat]                                           |4711|\n",
            "|[Nike Men's Dri-FIT Victory Golf Polo]                                              |4603|\n",
            "|[O'Brien Men's Neoprene Life Vest]                                                  |4505|\n",
            "|[Field & Stream Sportsman 16 Gun Fire Safe]                                         |4304|\n",
            "|[Nike Men's CJ Elite 2 TD Football Cleat, Perfect Fitness Perfect Rip Deck]         |4135|\n",
            "|[Pelican Sunstream 100 Kayak]                                                       |4108|\n",
            "|[Nike Men's Dri-FIT Victory Golf Polo, Perfect Fitness Perfect Rip Deck]            |4030|\n",
            "|[O'Brien Men's Neoprene Life Vest, Perfect Fitness Perfect Rip Deck]                |3963|\n",
            "|[Diamondback Women's Serene Classic Comfort Bi]                                     |3937|\n",
            "|[Nike Men's Dri-FIT Victory Golf Polo, Nike Men's CJ Elite 2 TD Football Cleat]     |3914|\n",
            "|[O'Brien Men's Neoprene Life Vest, Nike Men's CJ Elite 2 TD Football Cleat]         |3832|\n",
            "|[Nike Men's Free 5.0+ Running Shoe]                                                 |3803|\n",
            "|[Field & Stream Sportsman 16 Gun Fire Safe, Perfect Fitness Perfect Rip Deck]       |3774|\n",
            "|[O'Brien Men's Neoprene Life Vest, Nike Men's Dri-FIT Victory Golf Polo]            |3766|\n",
            "|[Field & Stream Sportsman 16 Gun Fire Safe, Nike Men's CJ Elite 2 TD Football Cleat]|3691|\n",
            "|[Pelican Sunstream 100 Kayak, Perfect Fitness Perfect Rip Deck]                     |3642|\n",
            "|[Field & Stream Sportsman 16 Gun Fire Safe, Nike Men's Dri-FIT Victory Golf Polo]   |3619|\n",
            "|[Field & Stream Sportsman 16 Gun Fire Safe, O'Brien Men's Neoprene Life Vest]       |3568|\n",
            "|[Under Armour Girls' Toddler Spine Surge Runni]                                     |3563|\n",
            "+------------------------------------------------------------------------------------+----+\n",
            "only showing top 20 rows\n",
            "\n"
          ]
        }
      ]
    },
    {
      "cell_type": "markdown",
      "source": [
        "## Tabela de associação"
      ],
      "metadata": {
        "id": "ybXJTx8Kkv1o"
      }
    },
    {
      "cell_type": "markdown",
      "source": [
        "* Support -- Esta medida dá uma ideia da frequência de um conjunto de itens em todas as transações.\n",
        "\n",
        "* Confidence -- Essa medida define a probabilidade de ocorrência de consequentes no carrinho, uma vez que o carrinho já possui os antecedentes. \n",
        "\n",
        "* Lift --  Representa aumento que {X} proporciona à nossa confiança por ter {Y} no carrinho."
      ],
      "metadata": {
        "id": "rjQGRo0tlgpm"
      }
    },
    {
      "cell_type": "code",
      "source": [
        "#@title\n",
        "# Mostra as regras de associação geradas\n",
        "modelo.associationRules\\\n",
        ".withColumn(\"confidence\", round(col(\"confidence\"), 3))\\\n",
        ".withColumn(\"lift\", round(col(\"lift\"), 3))\\\n",
        ".withColumn(\"support\", round(col(\"support\"),10))\\\n",
        ".sort('confidence', ascending = False)\\\n",
        ".show(truncate = True)"
      ],
      "metadata": {
        "colab": {
          "base_uri": "https://localhost:8080/"
        },
        "cellView": "form",
        "id": "9kElfQUXiiQf",
        "outputId": "3cb3249f-53fd-4750-e6ff-6cd5a69d5802"
      },
      "execution_count": 19,
      "outputs": [
        {
          "output_type": "stream",
          "name": "stdout",
          "text": [
            "+--------------------+--------------------+----------+-----+------------+\n",
            "|          antecedent|          consequent|confidence| lift|     support|\n",
            "+--------------------+--------------------+----------+-----+------------+\n",
            "|[Team Golf St. Lo...|[Nike Men's CJ El...|     0.982|2.924|0.0151785078|\n",
            "|[Team Golf St. Lo...|[Nike Men's CJ El...|     0.978|2.913|0.0158198532|\n",
            "|[Titleist Pro V1 ...|[Perfect Fitness ...|     0.977|2.827|0.0153922896|\n",
            "|[Team Golf St. Lo...|[Nike Men's CJ El...|     0.977|2.911|0.0152497684|\n",
            "|[Titleist Pro V1 ...|[Nike Men's CJ El...|     0.977|2.911|0.0153922896|\n",
            "|[ENO Atlas Hammoc...|[Perfect Fitness ...|     0.977|2.826|0.0150359866|\n",
            "|[ENO Atlas Hammoc...|[Perfect Fitness ...|     0.974|2.817|0.0158198532|\n",
            "|[Titleist Pro V1x...|[Perfect Fitness ...|     0.973|2.814| 0.015321029|\n",
            "|[Team Golf St. Lo...|[Nike Men's CJ El...|     0.973|2.898| 0.015321029|\n",
            "|[Titleist Pro V1 ...|[Nike Men's Dri-F...|     0.973|2.966|0.0153922896|\n",
            "|[Team Golf St. Lo...|[Nike Men's CJ El...|     0.972|2.896|0.0150359866|\n",
            "|[Bridgestone e6 S...|[Nike Men's Dri-F...|     0.972|2.965|0.0151072472|\n",
            "|[Glove It Women's...|[O'Brien Men's Ne...|     0.972|3.029|0.0150359866|\n",
            "|[Under Armour Gir...|[Perfect Fitness ...|     0.971| 2.81|0.0893607924|\n",
            "|[Team Golf St. Lo...|[Nike Men's CJ El...|     0.971|2.891|0.0164611986|\n",
            "|[Under Armour Gir...|[Perfect Fitness ...|     0.969|2.804|0.0939927314|\n",
            "|[Titleist Pro V1 ...|[Nike Men's CJ El...|     0.969|2.888|0.0158198532|\n",
            "|[Titleist Pro V1 ...|[Nike Men's CJ El...|     0.969|2.887|0.0157485926|\n",
            "|[Titleist Pro V1 ...|[Perfect Fitness ...|     0.969|2.804|0.0157485926|\n",
            "|[Top Flite Women'...|[Perfect Fitness ...|     0.968|  2.8|0.0151072472|\n",
            "+--------------------+--------------------+----------+-----+------------+\n",
            "only showing top 20 rows\n",
            "\n"
          ]
        }
      ]
    },
    {
      "cell_type": "markdown",
      "source": [
        "A tabela representa a relação de  consumo e o padrão de compra relacionada com um determinado produto, para o estudo foi eleito um grau de confiança mínima  de 70%, para que aumente a evidência da ocorrência de combinações entre os produtos antecessores e seus consequentes. "
      ],
      "metadata": {
        "id": "YSt2Oif1lX0G"
      }
    },
    {
      "cell_type": "markdown",
      "source": [
        "# Fim"
      ],
      "metadata": {
        "id": "JGstqxjgt8y1"
      }
    }
  ]
}