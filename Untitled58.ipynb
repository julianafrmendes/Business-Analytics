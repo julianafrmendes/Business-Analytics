{
  "nbformat": 4,
  "nbformat_minor": 0,
  "metadata": {
    "colab": {
      "provenance": [],
      "authorship_tag": "ABX9TyOueZtDnfHH9YEsibLDbtp2",
      "include_colab_link": true
    },
    "kernelspec": {
      "name": "python3",
      "display_name": "Python 3"
    },
    "language_info": {
      "name": "python"
    }
  },
  "cells": [
    {
      "cell_type": "markdown",
      "metadata": {
        "id": "view-in-github",
        "colab_type": "text"
      },
      "source": [
        "<a href=\"https://colab.research.google.com/github/julianafrmendes/Business-Analytics/blob/master/Untitled58.ipynb\" target=\"_parent\"><img src=\"https://colab.research.google.com/assets/colab-badge.svg\" alt=\"Open In Colab\"/></a>"
      ]
    },
    {
      "cell_type": "code",
      "execution_count": 1,
      "metadata": {
        "id": "oyDOZRMADsRZ"
      },
      "outputs": [],
      "source": [
        "import pandas as pd\n",
        "import numpy as np\n"
      ]
    },
    {
      "cell_type": "code",
      "source": [
        "df= pd.read_csv('dados_unidos.csv', sep = ';')\n",
        "df.head(2)"
      ],
      "metadata": {
        "colab": {
          "base_uri": "https://localhost:8080/",
          "height": 283
        },
        "id": "3vua_GOND7iS",
        "outputId": "89ac33f4-f9e1-41f9-e1ed-90e2c3e28a96"
      },
      "execution_count": 5,
      "outputs": [
        {
          "output_type": "execute_result",
          "data": {
            "text/plain": [
              "  possibilidade_de_retirada_de_consentimento u_unidade_tempo  \\\n",
              "0                                        Sim            Dias   \n",
              "1                                    Não sei            Anos   \n",
              "\n",
              "  outra_fonte_origem_dos_dados_pessoais temporalidade  \\\n",
              "0                          Teste Unimed             1   \n",
              "1                                   NaN             2   \n",
              "\n",
              "                                          finalidade declaracaociencia  \\\n",
              "0     Ações por Canal Telefônico, Outras Finalidades        VERDADEIRO   \n",
              "1  Atividades Administrativas, Exercício Regular ...        VERDADEIRO   \n",
              "\n",
              "  compartilhamento_com_terceiros_operadores    number meio_automatizado  \\\n",
              "0                                       Sim  Q0016892      Teste Unimed   \n",
              "1                                       Sim  Q0017268               NaN   \n",
              "\n",
              "                  lgpd_area  ... nome_do_questionario  \\\n",
              "0  Gerencia Administrativa   ...         Teste Unimed   \n",
              "1   Segurança da Informação  ...             backup -   \n",
              "\n",
              "                       lgpd_sistema  \\\n",
              "0  Acesso A Internet, Acesso A Site   \n",
              "1                Filezilla, Dropbox   \n",
              "\n",
              "  solicitacao_de_consentimento_quanto_a_coleta  \\\n",
              "0                                          Sim   \n",
              "1                                          Sim   \n",
              "\n",
              "  areas_internas_com_acesso_aos_dados metodo_de_transferencia_para_destinos  \\\n",
              "0                                 Sim        Cópia Eletrônica de Documentos   \n",
              "1                                 Sim             Transferência de Arquivos   \n",
              "\n",
              "  ha_transferencia_internacional_de_dados_pessoais  \\\n",
              "0                                              Sim   \n",
              "1                                              Não   \n",
              "\n",
              "                  dado_pessoal_sensivel titulares_de_dados_volume  \\\n",
              "0                             Biometria       acima de 10.000.000   \n",
              "1  Dado referente à Saúde/Dados Médicos             de  0 a 1.000   \n",
              "\n",
              "  localizacao_outro outros_sistemas  \n",
              "0      Teste Unimed             NaN  \n",
              "1               NaN             NaN  \n",
              "\n",
              "[2 rows x 49 columns]"
            ],
            "text/html": [
              "\n",
              "  <div id=\"df-3b794013-6a78-416a-a55a-0cbde571e1e5\" class=\"colab-df-container\">\n",
              "    <div>\n",
              "<style scoped>\n",
              "    .dataframe tbody tr th:only-of-type {\n",
              "        vertical-align: middle;\n",
              "    }\n",
              "\n",
              "    .dataframe tbody tr th {\n",
              "        vertical-align: top;\n",
              "    }\n",
              "\n",
              "    .dataframe thead th {\n",
              "        text-align: right;\n",
              "    }\n",
              "</style>\n",
              "<table border=\"1\" class=\"dataframe\">\n",
              "  <thead>\n",
              "    <tr style=\"text-align: right;\">\n",
              "      <th></th>\n",
              "      <th>possibilidade_de_retirada_de_consentimento</th>\n",
              "      <th>u_unidade_tempo</th>\n",
              "      <th>outra_fonte_origem_dos_dados_pessoais</th>\n",
              "      <th>temporalidade</th>\n",
              "      <th>finalidade</th>\n",
              "      <th>declaracaociencia</th>\n",
              "      <th>compartilhamento_com_terceiros_operadores</th>\n",
              "      <th>number</th>\n",
              "      <th>meio_automatizado</th>\n",
              "      <th>lgpd_area</th>\n",
              "      <th>...</th>\n",
              "      <th>nome_do_questionario</th>\n",
              "      <th>lgpd_sistema</th>\n",
              "      <th>solicitacao_de_consentimento_quanto_a_coleta</th>\n",
              "      <th>areas_internas_com_acesso_aos_dados</th>\n",
              "      <th>metodo_de_transferencia_para_destinos</th>\n",
              "      <th>ha_transferencia_internacional_de_dados_pessoais</th>\n",
              "      <th>dado_pessoal_sensivel</th>\n",
              "      <th>titulares_de_dados_volume</th>\n",
              "      <th>localizacao_outro</th>\n",
              "      <th>outros_sistemas</th>\n",
              "    </tr>\n",
              "  </thead>\n",
              "  <tbody>\n",
              "    <tr>\n",
              "      <th>0</th>\n",
              "      <td>Sim</td>\n",
              "      <td>Dias</td>\n",
              "      <td>Teste Unimed</td>\n",
              "      <td>1</td>\n",
              "      <td>Ações por Canal Telefônico, Outras Finalidades</td>\n",
              "      <td>VERDADEIRO</td>\n",
              "      <td>Sim</td>\n",
              "      <td>Q0016892</td>\n",
              "      <td>Teste Unimed</td>\n",
              "      <td>Gerencia Administrativa</td>\n",
              "      <td>...</td>\n",
              "      <td>Teste Unimed</td>\n",
              "      <td>Acesso A Internet, Acesso A Site</td>\n",
              "      <td>Sim</td>\n",
              "      <td>Sim</td>\n",
              "      <td>Cópia Eletrônica de Documentos</td>\n",
              "      <td>Sim</td>\n",
              "      <td>Biometria</td>\n",
              "      <td>acima de 10.000.000</td>\n",
              "      <td>Teste Unimed</td>\n",
              "      <td>NaN</td>\n",
              "    </tr>\n",
              "    <tr>\n",
              "      <th>1</th>\n",
              "      <td>Não sei</td>\n",
              "      <td>Anos</td>\n",
              "      <td>NaN</td>\n",
              "      <td>2</td>\n",
              "      <td>Atividades Administrativas, Exercício Regular ...</td>\n",
              "      <td>VERDADEIRO</td>\n",
              "      <td>Sim</td>\n",
              "      <td>Q0017268</td>\n",
              "      <td>NaN</td>\n",
              "      <td>Segurança da Informação</td>\n",
              "      <td>...</td>\n",
              "      <td>backup -</td>\n",
              "      <td>Filezilla, Dropbox</td>\n",
              "      <td>Sim</td>\n",
              "      <td>Sim</td>\n",
              "      <td>Transferência de Arquivos</td>\n",
              "      <td>Não</td>\n",
              "      <td>Dado referente à Saúde/Dados Médicos</td>\n",
              "      <td>de  0 a 1.000</td>\n",
              "      <td>NaN</td>\n",
              "      <td>NaN</td>\n",
              "    </tr>\n",
              "  </tbody>\n",
              "</table>\n",
              "<p>2 rows × 49 columns</p>\n",
              "</div>\n",
              "    <div class=\"colab-df-buttons\">\n",
              "\n",
              "  <div class=\"colab-df-container\">\n",
              "    <button class=\"colab-df-convert\" onclick=\"convertToInteractive('df-3b794013-6a78-416a-a55a-0cbde571e1e5')\"\n",
              "            title=\"Convert this dataframe to an interactive table.\"\n",
              "            style=\"display:none;\">\n",
              "\n",
              "  <svg xmlns=\"http://www.w3.org/2000/svg\" height=\"24px\" viewBox=\"0 -960 960 960\">\n",
              "    <path d=\"M120-120v-720h720v720H120Zm60-500h600v-160H180v160Zm220 220h160v-160H400v160Zm0 220h160v-160H400v160ZM180-400h160v-160H180v160Zm440 0h160v-160H620v160ZM180-180h160v-160H180v160Zm440 0h160v-160H620v160Z\"/>\n",
              "  </svg>\n",
              "    </button>\n",
              "\n",
              "  <style>\n",
              "    .colab-df-container {\n",
              "      display:flex;\n",
              "      gap: 12px;\n",
              "    }\n",
              "\n",
              "    .colab-df-convert {\n",
              "      background-color: #E8F0FE;\n",
              "      border: none;\n",
              "      border-radius: 50%;\n",
              "      cursor: pointer;\n",
              "      display: none;\n",
              "      fill: #1967D2;\n",
              "      height: 32px;\n",
              "      padding: 0 0 0 0;\n",
              "      width: 32px;\n",
              "    }\n",
              "\n",
              "    .colab-df-convert:hover {\n",
              "      background-color: #E2EBFA;\n",
              "      box-shadow: 0px 1px 2px rgba(60, 64, 67, 0.3), 0px 1px 3px 1px rgba(60, 64, 67, 0.15);\n",
              "      fill: #174EA6;\n",
              "    }\n",
              "\n",
              "    .colab-df-buttons div {\n",
              "      margin-bottom: 4px;\n",
              "    }\n",
              "\n",
              "    [theme=dark] .colab-df-convert {\n",
              "      background-color: #3B4455;\n",
              "      fill: #D2E3FC;\n",
              "    }\n",
              "\n",
              "    [theme=dark] .colab-df-convert:hover {\n",
              "      background-color: #434B5C;\n",
              "      box-shadow: 0px 1px 3px 1px rgba(0, 0, 0, 0.15);\n",
              "      filter: drop-shadow(0px 1px 2px rgba(0, 0, 0, 0.3));\n",
              "      fill: #FFFFFF;\n",
              "    }\n",
              "  </style>\n",
              "\n",
              "    <script>\n",
              "      const buttonEl =\n",
              "        document.querySelector('#df-3b794013-6a78-416a-a55a-0cbde571e1e5 button.colab-df-convert');\n",
              "      buttonEl.style.display =\n",
              "        google.colab.kernel.accessAllowed ? 'block' : 'none';\n",
              "\n",
              "      async function convertToInteractive(key) {\n",
              "        const element = document.querySelector('#df-3b794013-6a78-416a-a55a-0cbde571e1e5');\n",
              "        const dataTable =\n",
              "          await google.colab.kernel.invokeFunction('convertToInteractive',\n",
              "                                                    [key], {});\n",
              "        if (!dataTable) return;\n",
              "\n",
              "        const docLinkHtml = 'Like what you see? Visit the ' +\n",
              "          '<a target=\"_blank\" href=https://colab.research.google.com/notebooks/data_table.ipynb>data table notebook</a>'\n",
              "          + ' to learn more about interactive tables.';\n",
              "        element.innerHTML = '';\n",
              "        dataTable['output_type'] = 'display_data';\n",
              "        await google.colab.output.renderOutput(dataTable, element);\n",
              "        const docLink = document.createElement('div');\n",
              "        docLink.innerHTML = docLinkHtml;\n",
              "        element.appendChild(docLink);\n",
              "      }\n",
              "    </script>\n",
              "  </div>\n",
              "\n",
              "\n",
              "<div id=\"df-c69ddcf8-28af-4eba-a218-df0bb797df9f\">\n",
              "  <button class=\"colab-df-quickchart\" onclick=\"quickchart('df-c69ddcf8-28af-4eba-a218-df0bb797df9f')\"\n",
              "            title=\"Suggest charts\"\n",
              "            style=\"display:none;\">\n",
              "\n",
              "<svg xmlns=\"http://www.w3.org/2000/svg\" height=\"24px\"viewBox=\"0 0 24 24\"\n",
              "     width=\"24px\">\n",
              "    <g>\n",
              "        <path d=\"M19 3H5c-1.1 0-2 .9-2 2v14c0 1.1.9 2 2 2h14c1.1 0 2-.9 2-2V5c0-1.1-.9-2-2-2zM9 17H7v-7h2v7zm4 0h-2V7h2v10zm4 0h-2v-4h2v4z\"/>\n",
              "    </g>\n",
              "</svg>\n",
              "  </button>\n",
              "\n",
              "<style>\n",
              "  .colab-df-quickchart {\n",
              "      --bg-color: #E8F0FE;\n",
              "      --fill-color: #1967D2;\n",
              "      --hover-bg-color: #E2EBFA;\n",
              "      --hover-fill-color: #174EA6;\n",
              "      --disabled-fill-color: #AAA;\n",
              "      --disabled-bg-color: #DDD;\n",
              "  }\n",
              "\n",
              "  [theme=dark] .colab-df-quickchart {\n",
              "      --bg-color: #3B4455;\n",
              "      --fill-color: #D2E3FC;\n",
              "      --hover-bg-color: #434B5C;\n",
              "      --hover-fill-color: #FFFFFF;\n",
              "      --disabled-bg-color: #3B4455;\n",
              "      --disabled-fill-color: #666;\n",
              "  }\n",
              "\n",
              "  .colab-df-quickchart {\n",
              "    background-color: var(--bg-color);\n",
              "    border: none;\n",
              "    border-radius: 50%;\n",
              "    cursor: pointer;\n",
              "    display: none;\n",
              "    fill: var(--fill-color);\n",
              "    height: 32px;\n",
              "    padding: 0;\n",
              "    width: 32px;\n",
              "  }\n",
              "\n",
              "  .colab-df-quickchart:hover {\n",
              "    background-color: var(--hover-bg-color);\n",
              "    box-shadow: 0 1px 2px rgba(60, 64, 67, 0.3), 0 1px 3px 1px rgba(60, 64, 67, 0.15);\n",
              "    fill: var(--button-hover-fill-color);\n",
              "  }\n",
              "\n",
              "  .colab-df-quickchart-complete:disabled,\n",
              "  .colab-df-quickchart-complete:disabled:hover {\n",
              "    background-color: var(--disabled-bg-color);\n",
              "    fill: var(--disabled-fill-color);\n",
              "    box-shadow: none;\n",
              "  }\n",
              "\n",
              "  .colab-df-spinner {\n",
              "    border: 2px solid var(--fill-color);\n",
              "    border-color: transparent;\n",
              "    border-bottom-color: var(--fill-color);\n",
              "    animation:\n",
              "      spin 1s steps(1) infinite;\n",
              "  }\n",
              "\n",
              "  @keyframes spin {\n",
              "    0% {\n",
              "      border-color: transparent;\n",
              "      border-bottom-color: var(--fill-color);\n",
              "      border-left-color: var(--fill-color);\n",
              "    }\n",
              "    20% {\n",
              "      border-color: transparent;\n",
              "      border-left-color: var(--fill-color);\n",
              "      border-top-color: var(--fill-color);\n",
              "    }\n",
              "    30% {\n",
              "      border-color: transparent;\n",
              "      border-left-color: var(--fill-color);\n",
              "      border-top-color: var(--fill-color);\n",
              "      border-right-color: var(--fill-color);\n",
              "    }\n",
              "    40% {\n",
              "      border-color: transparent;\n",
              "      border-right-color: var(--fill-color);\n",
              "      border-top-color: var(--fill-color);\n",
              "    }\n",
              "    60% {\n",
              "      border-color: transparent;\n",
              "      border-right-color: var(--fill-color);\n",
              "    }\n",
              "    80% {\n",
              "      border-color: transparent;\n",
              "      border-right-color: var(--fill-color);\n",
              "      border-bottom-color: var(--fill-color);\n",
              "    }\n",
              "    90% {\n",
              "      border-color: transparent;\n",
              "      border-bottom-color: var(--fill-color);\n",
              "    }\n",
              "  }\n",
              "</style>\n",
              "\n",
              "  <script>\n",
              "    async function quickchart(key) {\n",
              "      const quickchartButtonEl =\n",
              "        document.querySelector('#' + key + ' button');\n",
              "      quickchartButtonEl.disabled = true;  // To prevent multiple clicks.\n",
              "      quickchartButtonEl.classList.add('colab-df-spinner');\n",
              "      try {\n",
              "        const charts = await google.colab.kernel.invokeFunction(\n",
              "            'suggestCharts', [key], {});\n",
              "      } catch (error) {\n",
              "        console.error('Error during call to suggestCharts:', error);\n",
              "      }\n",
              "      quickchartButtonEl.classList.remove('colab-df-spinner');\n",
              "      quickchartButtonEl.classList.add('colab-df-quickchart-complete');\n",
              "    }\n",
              "    (() => {\n",
              "      let quickchartButtonEl =\n",
              "        document.querySelector('#df-c69ddcf8-28af-4eba-a218-df0bb797df9f button');\n",
              "      quickchartButtonEl.style.display =\n",
              "        google.colab.kernel.accessAllowed ? 'block' : 'none';\n",
              "    })();\n",
              "  </script>\n",
              "</div>\n",
              "\n",
              "    </div>\n",
              "  </div>\n"
            ],
            "application/vnd.google.colaboratory.intrinsic+json": {
              "type": "dataframe",
              "variable_name": "df"
            }
          },
          "metadata": {},
          "execution_count": 5
        }
      ]
    },
    {
      "cell_type": "code",
      "source": [
        "#Váriaveis consideradas para o projeto\n",
        "Colunas = df.columns\n",
        "Colunas"
      ],
      "metadata": {
        "colab": {
          "base_uri": "https://localhost:8080/"
        },
        "id": "YHpj0lZBD8mv",
        "outputId": "00868ce4-d489-44cd-c68c-156eec6f6890"
      },
      "execution_count": 8,
      "outputs": [
        {
          "output_type": "execute_result",
          "data": {
            "text/plain": [
              "Index(['possibilidade_de_retirada_de_consentimento', 'u_unidade_tempo',\n",
              "       'outra_fonte_origem_dos_dados_pessoais', 'temporalidade', 'finalidade',\n",
              "       'declaracaociencia', 'compartilhamento_com_terceiros_operadores',\n",
              "       'number', 'meio_automatizado', 'lgpd_area',\n",
              "       'quais_areas_internas_da_organizacao', 'tipos_de_terceiros',\n",
              "       'finalidade_compartilhamento_interno',\n",
              "       'u_instrumentos_juridicos_sugeridos', 'medidas_seguranca',\n",
              "       'descricao_retirada_consentimento',\n",
              "       'os_dados_tratados_sao_limitados_aos_fins_espec_ficos_que_justificam_sua_coleta',\n",
              "       'tipo_dado_pessoal', 'fonte_origem_dos_dados_pessoais',\n",
              "       'outras_finalidades_areas_internas', 'lgpd_processo',\n",
              "       'nome_dos_terceiros', 'qual_o_canal_de_comunicacao', 'categoria_dados',\n",
              "       'assinale_abaixo_as_pol_ticas_j_utilizadas_na_sua_rea_processo',\n",
              "       'partes_que_acessam_usam_os_dados', 'outro_tipo_dado_pessoal',\n",
              "       'outras_medidas_seguranca', 'canal_de_comunicacao_questionario',\n",
              "       'base_legal_lgpd', 'outras_categoria_dados',\n",
              "       'outros_metodo_de_transferencia_para_destinos', 'descricao_do_processo',\n",
              "       'u_direitos_titular', 'finalidade_outro', 'u_conformidade',\n",
              "       'localizacao', 'lgpd_diretoria', 'paises_utilizando_o_processo',\n",
              "       'nome_do_questionario', 'lgpd_sistema',\n",
              "       'solicitacao_de_consentimento_quanto_a_coleta',\n",
              "       'areas_internas_com_acesso_aos_dados',\n",
              "       'metodo_de_transferencia_para_destinos',\n",
              "       'ha_transferencia_internacional_de_dados_pessoais',\n",
              "       'dado_pessoal_sensivel', 'titulares_de_dados_volume',\n",
              "       'localizacao_outro', 'outros_sistemas'],\n",
              "      dtype='object')"
            ]
          },
          "metadata": {},
          "execution_count": 8
        }
      ]
    },
    {
      "cell_type": "code",
      "source": [
        "df.info()"
      ],
      "metadata": {
        "colab": {
          "base_uri": "https://localhost:8080/"
        },
        "id": "ft4Mev_qFQ0i",
        "outputId": "5b730ac4-17e1-4562-d3b1-973c7a9f51c6"
      },
      "execution_count": 11,
      "outputs": [
        {
          "output_type": "stream",
          "name": "stdout",
          "text": [
            "<class 'pandas.core.frame.DataFrame'>\n",
            "RangeIndex: 1972 entries, 0 to 1971\n",
            "Data columns (total 49 columns):\n",
            " #   Column                                                                          Non-Null Count  Dtype \n",
            "---  ------                                                                          --------------  ----- \n",
            " 0   possibilidade_de_retirada_de_consentimento                                      1596 non-null   object\n",
            " 1   u_unidade_tempo                                                                 791 non-null    object\n",
            " 2   outra_fonte_origem_dos_dados_pessoais                                           604 non-null    object\n",
            " 3   temporalidade                                                                   1967 non-null   object\n",
            " 4   finalidade                                                                      1972 non-null   object\n",
            " 5   declaracaociencia                                                               1972 non-null   object\n",
            " 6   compartilhamento_com_terceiros_operadores                                       1972 non-null   object\n",
            " 7   number                                                                          1972 non-null   object\n",
            " 8   meio_automatizado                                                               113 non-null    object\n",
            " 9   lgpd_area                                                                       1972 non-null   object\n",
            " 10  quais_areas_internas_da_organizacao                                             1392 non-null   object\n",
            " 11  tipos_de_terceiros                                                              875 non-null    object\n",
            " 12  finalidade_compartilhamento_interno                                             1682 non-null   object\n",
            " 13  u_instrumentos_juridicos_sugeridos                                              1133 non-null   object\n",
            " 14  medidas_seguranca                                                               1893 non-null   object\n",
            " 15  descricao_retirada_consentimento                                                237 non-null    object\n",
            " 16  os_dados_tratados_sao_limitados_aos_fins_espec_ficos_que_justificam_sua_coleta  1865 non-null   object\n",
            " 17  tipo_dado_pessoal                                                               1972 non-null   object\n",
            " 18  fonte_origem_dos_dados_pessoais                                                 1972 non-null   object\n",
            " 19  outras_finalidades_areas_internas                                               145 non-null    object\n",
            " 20  lgpd_processo                                                                   1967 non-null   object\n",
            " 21  nome_dos_terceiros                                                              779 non-null    object\n",
            " 22  qual_o_canal_de_comunicacao                                                     1099 non-null   object\n",
            " 23  categoria_dados                                                                 1972 non-null   object\n",
            " 24  assinale_abaixo_as_pol_ticas_j_utilizadas_na_sua_rea_processo                   752 non-null    object\n",
            " 25  partes_que_acessam_usam_os_dados                                                403 non-null    object\n",
            " 26  outro_tipo_dado_pessoal                                                         754 non-null    object\n",
            " 27  outras_medidas_seguranca                                                        259 non-null    object\n",
            " 28  canal_de_comunicacao_questionario                                               1782 non-null   object\n",
            " 29  base_legal_lgpd                                                                 1379 non-null   object\n",
            " 30  outras_categoria_dados                                                          416 non-null    object\n",
            " 31  outros_metodo_de_transferencia_para_destinos                                    145 non-null    object\n",
            " 32  descricao_do_processo                                                           1972 non-null   object\n",
            " 33  u_direitos_titular                                                              885 non-null    object\n",
            " 34  finalidade_outro                                                                556 non-null    object\n",
            " 35  u_conformidade                                                                  1339 non-null   object\n",
            " 36  localizacao                                                                     1972 non-null   object\n",
            " 37  lgpd_diretoria                                                                  1972 non-null   object\n",
            " 38  paises_utilizando_o_processo                                                    1970 non-null   object\n",
            " 39  nome_do_questionario                                                            1932 non-null   object\n",
            " 40  lgpd_sistema                                                                    1814 non-null   object\n",
            " 41  solicitacao_de_consentimento_quanto_a_coleta                                    1653 non-null   object\n",
            " 42  areas_internas_com_acesso_aos_dados                                             1972 non-null   object\n",
            " 43  metodo_de_transferencia_para_destinos                                           871 non-null    object\n",
            " 44  ha_transferencia_internacional_de_dados_pessoais                                1971 non-null   object\n",
            " 45  dado_pessoal_sensivel                                                           619 non-null    object\n",
            " 46  titulares_de_dados_volume                                                       1970 non-null   object\n",
            " 47  localizacao_outro                                                               496 non-null    object\n",
            " 48  outros_sistemas                                                                 40 non-null     object\n",
            "dtypes: object(49)\n",
            "memory usage: 755.0+ KB\n"
          ]
        }
      ]
    },
    {
      "cell_type": "code",
      "source": [
        "cat0 = df['possibilidade_de_retirada_de_consentimento'].value_counts()\n",
        "cat0"
      ],
      "metadata": {
        "colab": {
          "base_uri": "https://localhost:8080/"
        },
        "id": "KGMWx3fOD7mF",
        "outputId": "4295b270-3dd9-4495-d1e5-67d3525109fa"
      },
      "execution_count": 9,
      "outputs": [
        {
          "output_type": "execute_result",
          "data": {
            "text/plain": [
              "possibilidade_de_retirada_de_consentimento\n",
              "Não        1168\n",
              "Sim         218\n",
              "Não sei     209\n",
              "nao_sei       1\n",
              "Name: count, dtype: int64"
            ]
          },
          "metadata": {},
          "execution_count": 9
        }
      ]
    },
    {
      "cell_type": "code",
      "source": [
        "cat1 = df['u_unidade_tempo'].value_counts()\n",
        "cat1"
      ],
      "metadata": {
        "colab": {
          "base_uri": "https://localhost:8080/"
        },
        "id": "vJahIS_jEzoq",
        "outputId": "6c3c953b-72eb-41a0-dd5e-7d7c07c43c64"
      },
      "execution_count": 10,
      "outputs": [
        {
          "output_type": "execute_result",
          "data": {
            "text/plain": [
              "u_unidade_tempo\n",
              "Anos             410\n",
              "indeterminado    139\n",
              "Indeterminado     82\n",
              "Dias              69\n",
              "Não Definido      59\n",
              "Meses             32\n",
              "Name: count, dtype: int64"
            ]
          },
          "metadata": {},
          "execution_count": 10
        }
      ]
    },
    {
      "cell_type": "code",
      "source": [
        "cat2 = df['outra_fonte_origem_dos_dados_pessoais '].value_counts()\n",
        "cat2"
      ],
      "metadata": {
        "id": "YLnPo9gVEzrF"
      },
      "execution_count": null,
      "outputs": []
    },
    {
      "cell_type": "code",
      "source": [
        "cat3 = df['temporalidade '].value_counts()\n",
        "cat3"
      ],
      "metadata": {
        "id": "lQBNohaXEztm"
      },
      "execution_count": null,
      "outputs": []
    },
    {
      "cell_type": "code",
      "source": [
        "cat4 = df['finalidade'].value_counts()\n",
        "cat4"
      ],
      "metadata": {
        "id": "9bQdThwAFK4S"
      },
      "execution_count": null,
      "outputs": []
    },
    {
      "cell_type": "code",
      "source": [
        "cat5 = df['declaracaociencia'].value_counts()\n",
        "cat5"
      ],
      "metadata": {
        "id": "7LvvqX3YFK7Q"
      },
      "execution_count": null,
      "outputs": []
    },
    {
      "cell_type": "code",
      "source": [
        "cat6 = df['compartilhamento_com_terceiros_operadores'].value_counts()\n",
        "cat6"
      ],
      "metadata": {
        "id": "115YzvLCFK9l"
      },
      "execution_count": null,
      "outputs": []
    },
    {
      "cell_type": "code",
      "source": [
        "cat7 = df['number'].value_counts()\n",
        "cat7"
      ],
      "metadata": {
        "id": "QzHGKj7uFLAG"
      },
      "execution_count": null,
      "outputs": []
    },
    {
      "cell_type": "code",
      "source": [
        "cat8 = df['meio_automatizado'].value_counts()\n",
        "cat8"
      ],
      "metadata": {
        "id": "TABiunNFFLCl"
      },
      "execution_count": null,
      "outputs": []
    },
    {
      "cell_type": "code",
      "source": [
        "cat9 = df['lgpd_area'].value_counts()\n",
        "cat9"
      ],
      "metadata": {
        "id": "sVvrBsGSFLEt"
      },
      "execution_count": null,
      "outputs": []
    },
    {
      "cell_type": "code",
      "source": [
        "cat10 = df['quais_areas_internas_da_organizacao'].value_counts()\n",
        "cat10"
      ],
      "metadata": {
        "id": "DYej9hNYFLG2"
      },
      "execution_count": null,
      "outputs": []
    },
    {
      "cell_type": "code",
      "source": [
        "cat11 = df['tipos_de_terceiros'].value_counts()\n",
        "cat11"
      ],
      "metadata": {
        "id": "7RWqOP4bFNK_"
      },
      "execution_count": null,
      "outputs": []
    },
    {
      "cell_type": "code",
      "source": [
        "cat12 = df['finalidade_compartilhamento_interno'].value_counts()\n",
        "cat12"
      ],
      "metadata": {
        "id": "_Z1wcFkgFNTQ"
      },
      "execution_count": null,
      "outputs": []
    },
    {
      "cell_type": "code",
      "source": [
        "cat13 = df['u_instrumentos_juridicos_sugeridos'].value_counts()\n",
        "cat13"
      ],
      "metadata": {
        "id": "VWRxymJ-FNVm"
      },
      "execution_count": null,
      "outputs": []
    },
    {
      "cell_type": "code",
      "source": [
        "cat14= df['medidas_seguranca'].value_counts()\n",
        "cat14"
      ],
      "metadata": {
        "id": "oLj9sMM6FNYI"
      },
      "execution_count": null,
      "outputs": []
    },
    {
      "cell_type": "code",
      "source": [
        "cat15= df['descricao_retirada_consentimento'].value_counts()\n",
        "cat15"
      ],
      "metadata": {
        "id": "_8Yqe3zYF2DO"
      },
      "execution_count": null,
      "outputs": []
    },
    {
      "cell_type": "code",
      "source": [
        "cat16= df['os_dados_tratados_sao_limitados_aos_fins_espec_ficos_que_justificam_sua_coleta'].value_counts()\n",
        "cat16"
      ],
      "metadata": {
        "id": "-PmJCFmKF2Fm"
      },
      "execution_count": null,
      "outputs": []
    },
    {
      "cell_type": "code",
      "source": [
        "cat17= df['tipo_dado_pessoal'].value_counts()\n",
        "cat17"
      ],
      "metadata": {
        "id": "pgBEn0YkF2IQ"
      },
      "execution_count": null,
      "outputs": []
    },
    {
      "cell_type": "code",
      "source": [
        "cat18= df['fonte_origem_dos_dados_pessoais'].value_counts()\n",
        "cat18"
      ],
      "metadata": {
        "id": "UYpo6Q2kF2Ku"
      },
      "execution_count": null,
      "outputs": []
    },
    {
      "cell_type": "code",
      "source": [
        "cat19= df['outras_finalidades_areas_internas'].value_counts()\n",
        "cat19"
      ],
      "metadata": {
        "id": "OTo_xWhlF2ND"
      },
      "execution_count": null,
      "outputs": []
    },
    {
      "cell_type": "code",
      "source": [
        "cat20= df['lgpd_processo'].value_counts()\n",
        "cat20"
      ],
      "metadata": {
        "id": "PyvMPYsIF8qe"
      },
      "execution_count": null,
      "outputs": []
    },
    {
      "cell_type": "code",
      "source": [
        "cat21= df['nome_dos_terceiros'].value_counts()\n",
        "cat21"
      ],
      "metadata": {
        "id": "ym1j0-NeF8s_"
      },
      "execution_count": null,
      "outputs": []
    },
    {
      "cell_type": "code",
      "source": [
        "cat22= df['qual_o_canal_de_comunicacao '].value_counts()\n",
        "cat22"
      ],
      "metadata": {
        "id": "OU7PMb4aF8vh"
      },
      "execution_count": null,
      "outputs": []
    },
    {
      "cell_type": "code",
      "source": [
        "cat23= df['categoria_dados '].value_counts()\n",
        "cat23"
      ],
      "metadata": {
        "id": "wkmnlEc-F8yC"
      },
      "execution_count": null,
      "outputs": []
    },
    {
      "cell_type": "code",
      "source": [
        "cat24= df['assinale_abaixo_as_pol_ticas_j_utilizadas_na_sua_rea_processo'].value_counts()\n",
        "cat24"
      ],
      "metadata": {
        "id": "PTizTpYVF80I"
      },
      "execution_count": null,
      "outputs": []
    },
    {
      "cell_type": "code",
      "source": [
        "cat25= df['partes_que_acessam_usam_os_dados'].value_counts()\n",
        "cat25"
      ],
      "metadata": {
        "id": "f9in5SvoF82X"
      },
      "execution_count": null,
      "outputs": []
    },
    {
      "cell_type": "code",
      "source": [
        "cat26= df['outro_tipo_dado_pessoal'].value_counts()\n",
        "cat26"
      ],
      "metadata": {
        "id": "yi2MdeHAGFgw"
      },
      "execution_count": null,
      "outputs": []
    },
    {
      "cell_type": "code",
      "source": [
        "cat27= df['outras_medidas_seguranca'].value_counts()\n",
        "cat27"
      ],
      "metadata": {
        "id": "JJH1Q3kNGFjP"
      },
      "execution_count": null,
      "outputs": []
    },
    {
      "cell_type": "code",
      "source": [
        "cat28= df['canal_de_comunicacao_questionario'].value_counts()\n",
        "cat28"
      ],
      "metadata": {
        "id": "1YDbwPyoGFl2"
      },
      "execution_count": null,
      "outputs": []
    },
    {
      "cell_type": "code",
      "source": [
        "cat29= df['base_legal_lgpd'].value_counts()\n",
        "cat29"
      ],
      "metadata": {
        "id": "RoHkDtRKGFoa"
      },
      "execution_count": null,
      "outputs": []
    },
    {
      "cell_type": "code",
      "source": [
        "cat30= df['outras_categoria_dados'].value_counts()\n",
        "cat30"
      ],
      "metadata": {
        "id": "JylW_pBXGFrX"
      },
      "execution_count": null,
      "outputs": []
    },
    {
      "cell_type": "code",
      "source": [
        "cat31= df['outros_metodo_de_transferencia_para_destinos'].value_counts()\n",
        "cat31"
      ],
      "metadata": {
        "id": "6fTk-OtDGFt_"
      },
      "execution_count": null,
      "outputs": []
    },
    {
      "cell_type": "code",
      "source": [
        "cat32= df['descricao_do_processo'].value_counts()\n",
        "cat32"
      ],
      "metadata": {
        "id": "cijitZ0KHexv"
      },
      "execution_count": null,
      "outputs": []
    },
    {
      "cell_type": "code",
      "source": [
        "cat33= df['u_direitos_titular'].value_counts()\n",
        "cat33"
      ],
      "metadata": {
        "id": "4qOqCzMkHe0P"
      },
      "execution_count": null,
      "outputs": []
    },
    {
      "cell_type": "code",
      "source": [
        "cat34= df['finalidade_outro'].value_counts()\n",
        "cat34"
      ],
      "metadata": {
        "id": "zu7GIwFSHe2-"
      },
      "execution_count": null,
      "outputs": []
    },
    {
      "cell_type": "code",
      "source": [
        "cat35= df['u_conformidade '].value_counts()\n",
        "cat35"
      ],
      "metadata": {
        "id": "ty1L9UKbHe5O"
      },
      "execution_count": null,
      "outputs": []
    },
    {
      "cell_type": "code",
      "source": [
        "cat36= df['localizacao'].value_counts()\n",
        "cat36"
      ],
      "metadata": {
        "id": "FKlUcalPHe71"
      },
      "execution_count": null,
      "outputs": []
    },
    {
      "cell_type": "code",
      "source": [
        "cat37= df['lgpd_diretoria'].value_counts()\n",
        "cat37\n"
      ],
      "metadata": {
        "id": "dWU8Ty47Hh7p"
      },
      "execution_count": null,
      "outputs": []
    },
    {
      "cell_type": "code",
      "source": [
        "cat38= df['paises_utilizando_o_processo'].value_counts()\n",
        "cat38"
      ],
      "metadata": {
        "id": "G4KZ1gMIHh9v"
      },
      "execution_count": null,
      "outputs": []
    },
    {
      "cell_type": "code",
      "source": [
        "cat39= df['nome_do_questionario'].value_counts()\n",
        "cat39"
      ],
      "metadata": {
        "id": "BTx-c2vxHiAP"
      },
      "execution_count": null,
      "outputs": []
    },
    {
      "cell_type": "code",
      "source": [
        "cat40= df['lgpd_sistema'].value_counts()\n",
        "cat40"
      ],
      "metadata": {
        "id": "BKIQirw7HiCp"
      },
      "execution_count": null,
      "outputs": []
    },
    {
      "cell_type": "code",
      "source": [
        "cat41= df['solicitacao_de_consentimento_quanto_a_coleta'].value_counts()\n",
        "cat41"
      ],
      "metadata": {
        "id": "-8I_kW4hHp6o"
      },
      "execution_count": null,
      "outputs": []
    },
    {
      "cell_type": "code",
      "source": [
        "cat42= df['areas_internas_com_acesso_aos_dados'].value_counts()\n",
        "cat42"
      ],
      "metadata": {
        "id": "JuG3XkQ0Hp9X"
      },
      "execution_count": null,
      "outputs": []
    },
    {
      "cell_type": "code",
      "source": [
        "cat43= df['metodo_de_transferencia_para_destinos'].value_counts()\n",
        "cat43\n"
      ],
      "metadata": {
        "id": "3QHBxextHp__"
      },
      "execution_count": null,
      "outputs": []
    },
    {
      "cell_type": "code",
      "source": [
        "cat44= df['ha_transferencia_internacional_de_dados_pessoais'].value_counts()\n",
        "cat44"
      ],
      "metadata": {
        "id": "AfIaVslpHqCo"
      },
      "execution_count": null,
      "outputs": []
    },
    {
      "cell_type": "code",
      "source": [
        "cat45= df['dado_pessoal_sensivel'].value_counts()\n",
        "cat45"
      ],
      "metadata": {
        "id": "Jme7PnBrH4BK"
      },
      "execution_count": null,
      "outputs": []
    },
    {
      "cell_type": "code",
      "source": [
        "cat46= df['titulares_de_dados_volume'].value_counts()\n",
        "cat46"
      ],
      "metadata": {
        "id": "vwx7wfZyH4Dn"
      },
      "execution_count": null,
      "outputs": []
    },
    {
      "cell_type": "code",
      "source": [
        "cat47= df['localizacao_outro'].value_counts()\n",
        "cat47"
      ],
      "metadata": {
        "id": "CPKu39dhH6iY"
      },
      "execution_count": null,
      "outputs": []
    },
    {
      "cell_type": "code",
      "source": [
        "cat48 = df['outros_sistemas'].value_counts()\n",
        "cat48"
      ],
      "metadata": {
        "id": "Tx_R3rEXH6k3"
      },
      "execution_count": null,
      "outputs": []
    },
    {
      "cell_type": "code",
      "source": [
        "cat49 = df[].value_counts()\n",
        "cat49"
      ],
      "metadata": {
        "id": "8Jdj_9DNH6nO"
      },
      "execution_count": null,
      "outputs": []
    }
  ]
}